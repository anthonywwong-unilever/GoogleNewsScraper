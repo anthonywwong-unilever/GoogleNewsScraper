{
 "cells": [
  {
   "cell_type": "code",
   "execution_count": 1,
   "metadata": {},
   "outputs": [],
   "source": [
    "from selenium import webdriver\n",
    "from selenium.webdriver.common.by import By\n",
    "from selenium.webdriver.common.keys import Keys\n",
    "from bs4 import BeautifulSoup\n",
    "from scraper.config.news_scraper_config import NewsScraperConfig\n",
    "from scraper.config.news_site_config import NewsSiteConfig\n",
    "from scraper.config.metadata import Schema, Quantity, Parser\n",
    "from utils.general_utils import filter_not_contain_str\n",
    "\n",
    "import pandas as pd\n",
    "import numpy as np\n",
    "import re"
   ]
  },
  {
   "cell_type": "code",
   "execution_count": 2,
   "metadata": {},
   "outputs": [],
   "source": [
    "driver = webdriver.Edge()"
   ]
  },
  {
   "cell_type": "markdown",
   "metadata": {},
   "source": [
    "## Google News Search "
   ]
  },
  {
   "cell_type": "markdown",
   "metadata": {},
   "source": [
    "---"
   ]
  },
  {
   "cell_type": "code",
   "execution_count": 21,
   "metadata": {},
   "outputs": [],
   "source": [
    "driver.get(\"https://news.google.com/home?hl=en-CA&gl=CA&ceid=CA%3Aen\")"
   ]
  },
  {
   "cell_type": "code",
   "execution_count": 22,
   "metadata": {},
   "outputs": [],
   "source": [
    "search_bar = driver.find_element(By.CSS_SELECTOR, \"input[class='Ax4B8 ZAGvjd']\")"
   ]
  },
  {
   "cell_type": "code",
   "execution_count": 23,
   "metadata": {},
   "outputs": [],
   "source": [
    "search_bar.send_keys('Vegetable oils used in biodiesel production demand')"
   ]
  },
  {
   "cell_type": "code",
   "execution_count": 24,
   "metadata": {},
   "outputs": [],
   "source": [
    "search_bar.send_keys(Keys.ENTER)"
   ]
  },
  {
   "cell_type": "code",
   "execution_count": 25,
   "metadata": {},
   "outputs": [],
   "source": [
    "news_xpath_locator = \".//div[@class='IL9Cne']/a[@class='JtKRv']\"\n",
    "\n",
    "news = driver.find_elements(By.XPATH, news_xpath_locator)"
   ]
  },
  {
   "cell_type": "code",
   "execution_count": null,
   "metadata": {},
   "outputs": [],
   "source": [
    "# news_site_xpath_location = f\".//div[@class='IL9Cne']/div[@class='MCAGUe']\" # //div[@class='vr1PYe']\"\n",
    "\n",
    "# news_sites = driver.find_elements(By.XPATH, news_site_xpath_location)"
   ]
  },
  {
   "cell_type": "code",
   "execution_count": 26,
   "metadata": {},
   "outputs": [],
   "source": [
    "news_links = [new.get_attribute('href') for new in news if new.text != '']"
   ]
  },
  {
   "cell_type": "code",
   "execution_count": 27,
   "metadata": {},
   "outputs": [
    {
     "data": {
      "text/plain": [
       "['https://news.google.com/read/CBMirwFBVV95cUxNck9hdnFvckdWem9RSlhkQlZoY2lKNkVYS0VCZ3FEVHBBVkV4MGl5d3NsWExLUFN2NEktNFV3M2lTOHkwWmYwV2dLR3d6Q0txbnd0TWRsckZkNUdCcWZtWVVuTnZkYUhwc285dUFPUEppUEdsTGZvTlQ3b3RYNG9rZnB2OF95dkROZjl6SkdxUlpGWHcxTUxzeGkyODljTHZrcGprUzUzUXk4TS05dmw0?hl=en-CA&gl=CA&ceid=CA%3Aen',\n",
       " 'https://news.google.com/read/CBMilAFBVV95cUxNZmJsaExaalUzN3h5eE95MkEzeWtxY0tZbnR1NGNfRzVkODdyZnY2S0hTa3ZzSEgzY2hDMlhySHR6Mnh0UmJ2aE9oWlVDY0xHSi00UzBYbl9UbXdpNHByRE1NOXRhZHV6YWtvUGx2Um1VdGpPRXZKT3h3Vkhld29mMHpuTHZXUjk5R2hzNlpVdndQS3ph?hl=en-CA&gl=CA&ceid=CA%3Aen',\n",
       " 'https://news.google.com/read/CBMioAFBVV95cUxNOGZOS0JfYkNlOTFrTVo0UzBGWC0zaFh5WTFYdFdJSzVpOGVRd2xiVE1YeTZlRG8wUGxERk1aUHR1b1pXMnpPQ1hhQmZ5RnJzRlE5MTdvZ3FpYkVDU1RjenYzU0s2NFpEekl2YXJ6dy1LLVl3dzdSWVNNbzdjS3RnN252dkV3Yko5MmNmeU42bl8wX2tXVjdHV3JfdzFzYmdB?hl=en-CA&gl=CA&ceid=CA%3Aen',\n",
       " 'https://news.google.com/read/CBMi6AFBVV95cUxNanBScW9KS0RhUC1VNFg4c3J3eUdGREdSU0JKWWJ4NThkVFY0aXk0dmJqeThnVi1iWXY3NW5UZlozR3dWbFROYTdKcUhfWHYzZmdtU1U5RGlTNGoxSWxodVg4dnhRWkJrMmFBRVlTX2JCQkpHN3E3SDY1ZGl3SDFHVXVTd2liVWVEZ290ZHhMNWpfOU4tekJTR1R6MmcyUURqMEhuWlJWYlJHWk8zN2puYXJlX0tqZUFndjRWR0s3bWl5R282alRqQm5GYlJ3S0JyNEhfVXpXSG9uRHh1dFFIUmdEZWRBZUtU?hl=en-CA&gl=CA&ceid=CA%3Aen',\n",
       " 'https://news.google.com/read/CBMiUEFVX3lxTE5mQ0l4V0Q5VjZtMkUtUkxESk5hQ21URDJRYmc3c3NhRFBVSXB5R1JIYkoyWUh4bklPSWJfSzR4Wk1xUGVONDlVbzVDNVlZemxw?hl=en-CA&gl=CA&ceid=CA%3Aen',\n",
       " 'https://news.google.com/read/CBMiugFBVV95cUxNbnhDNGRjN3A4M3RTWE8wWHkxdUVYeVA4eEY0S3ZhMVRHUnFCMnJnZU5HblhLdUd6VDZTb1FTZUszVVp2SmdVdXNfb1pfbVE1dUtUZ0REX3NLUVRsY1BNZTV4eGNGTVI4OXF5aE9WZ2c4RElGR1BOWUdjOVRRQ0llemhpMjBYZE9JLWw0bUZSVnpXVFZFQ3lVYXRQNWRCbERTVG1OOWNxeWdJaUNYa0hrOTFpRExtMmJ1VFE?hl=en-CA&gl=CA&ceid=CA%3Aen',\n",
       " 'https://news.google.com/read/CBMiwwFBVV95cUxOV3M0cHVSWkc3R0NCSEZha2ZVZ2h3dkhhNy1wUzdsVFpoYjNhSFQ2TlEtZFB6LXExVzVNcVhkVS0zR0ZmSHNObDhMRkxiTmNBRHRsWURpTnRQOGNzZk83UUFUTUFJWTh5cmNBX3hFSlVzaDhJbWV0QU1uc1BRTFI4ckpzRm83dF9Rekp1QTFtS0hLZjlLXzV3V0FNdGxKcXhYc2NtQkJoSFIxbmU0aXROR1F6dDgxZUgzZ1pQaVdlZVBHTk0?hl=en-CA&gl=CA&ceid=CA%3Aen',\n",
       " 'https://news.google.com/read/CBMikgFBVV95cUxPdllqTU5na21IYjh4VHM4OUwxdE5QdmFVVDdfbWxKNUNGNktRWGNiVURVcm1hQUs3NWJneTliWTcwQWhuVHlwR0o0bmtQUEdfbURESjluOXhtaUZjbVl3dU1WQ0hDa1JEXzZFMVhJd2JvZG9ZR254d2JJUFNsMmV4RWMxZmdJMW5DM2pYalZYb21uUQ?hl=en-CA&gl=CA&ceid=CA%3Aen',\n",
       " 'https://news.google.com/read/CBMiswFBVV95cUxPTGdvNHNWWFRnSldFVUxFNldKVmNtLUpGNkJXQ3JtSE5FYjVBaDR6NWdvcjZjQ012LVFCR2JwU1oyVUZPRmNTeDVhRzZUTDdUd1dwUUp3WkVZRHM4ME5Lam0xc1ZDNkRYNUI3eTRXWVl4MnAyZ09FUW1EYkpDTkpNSzI2SEdKV0tDN19wb1BJMnNZbzlmdGZFUkk3Ull0OXNycEg5dzd6dkJWNTBtVDNyUEhESQ?hl=en-CA&gl=CA&ceid=CA%3Aen',\n",
       " 'https://news.google.com/read/CBMitwFBVV95cUxQNmtWTGtUdHB4Ynh0X0JOVXhPbzhiazV5WHgwZkprQVFDWGtULXBEeUVITU9meHJIRnM4bjVRU1dueEtMZHRtLTNkSXhSYVRTbVZLR21FX2kyS0ZBZ1d2X1huLWNlY0hfSkFVRFgzYlZJWXVuNFN6d2VlTkp1ZXBfakI2VmZIelYtb2hrb1hManNaNWlOSkJMQW0wLUxOTG56RlpEbkFHWVBZQkktUEFhbEJLT0lRdmc?hl=en-CA&gl=CA&ceid=CA%3Aen',\n",
       " 'https://news.google.com/read/CBMid0FVX3lxTE5teDIxTjlfX3VDd3VCUW1xNWJOVDE4emlILUhEa3J5ekZBR1pkb3hUVXdJVWpsMFo5bS0wQXAwUWgtXzhkTk1oNTNJVXBUWmJxTjdyaVhKd2dOYnpYMHZhLXlSd2tNeEQ0bWpDUHc2a25oWndGeVVN?hl=en-CA&gl=CA&ceid=CA%3Aen',\n",
       " 'https://news.google.com/read/CBMiigFBVV95cUxQU1ZXQnVhblh2cVlSZ2tVZkRYWmRHdjBjTlkzbmVQUWY3eFRLZzVEcndYRkZSYkp2akxUNUVrc1pUZ3FwLXdGM1dfLXZCZV9wWWpXZXBPRzA1ZHdUX1Q3WktHZlNmNm85MEpQYU5vcmZwUGI1Vlg5d201ejUwSklSMWJCWWx1MU1qOWc?hl=en-CA&gl=CA&ceid=CA%3Aen',\n",
       " 'https://news.google.com/read/CBMiiwFBVV95cUxPaC11c2VpLTNBVGwxRDhtOXUtVUZyNlZGZ2hBVGg5VGhLVU1Zc0dhSmhVVXJIQlBUZkVCVXVRQmJkMDliTFJ0NV9QX2MxeEt2OTBLYlZCYnFlNEpCQUl2RjNhTkVhTGhwbml1TlBQOWNPcWRNUUo0SDRVcGZrcjlCcXdRN0NCRUNyUGtz0gGbAUFVX3lxTE0zakNpejF3cXM1ZmpCMlE3SFcxbFNjWkN6SFE1NG1KN3pXa0ZubUhvM1hqcDNPSGJ4SU80NDhrYzExcmptNDZhVWxJeXVmaEd1Z0U1bVBqc19hUkF5Y3VpNTM4aGFhWkZFQTU2ZDZFaGNTTWRsbkFNeDk1Z09MQ1hEQU9TWng5YklKU3drbkxIRi1CbFBtYy1BZm9V?hl=en-CA&gl=CA&ceid=CA%3Aen',\n",
       " 'https://news.google.com/read/CBMiygFBVV95cUxPblgzVXBIc1FMUE55a2xYSkJnY2N2MTVKZmVObGRscUhxcG1EMHNTdFVYbDZDNlIxd1IwVWx2M25yelYxWFYtTkVZbVZlUnA5bkg3SUEtcTVxM1AxVzYtRFh2OTA4eXVfVThaa2FtMklZOHA1a2ZfVjd2SC1POGVyZ2VoRTNwOHAtaW51TWxrTlFNZ1ItRF94MDBVUkdUZnYwXzdKNFlVek4zRlduUDZ4VnhyNWZyRzZrc2t0U2lZREppSnJsVWdTQnhB?hl=en-CA&gl=CA&ceid=CA%3Aen',\n",
       " 'https://news.google.com/read/CBMijwFBVV95cUxPVndLdWdrOEtHRnVUbGFodGdxa040Nm1Kck5fR0xIVEJ1MGozUGFpd2NfY0VzbUtBM3RJWUwtTFh4WlFhYkNBbDRYalNpSjFXQ21vQjB3dWdBMWMzSERadUFLd0NyZmQzcVphQlhVWXFPQmx1b0E5cHh5cE4yaEdLcHFKSVBZUUx6ZzNTUTRHMA?hl=en-CA&gl=CA&ceid=CA%3Aen',\n",
       " 'https://news.google.com/read/CBMihwFBVV95cUxQc01nVUFjZVhEUG9BdzhqcE4yZ056dzZ4RTR2dG5kN2Z4eVJ5azYzLXdHUFAxUXVsTkRrM3BaRTdndXVRN0NMRHFWR0FFX3QxYVlCYnh0dmhCd3JDaU1iQlVvYjhoVzluX1ViZHdTbVVNcjNSajRMTnNTbWJHZ1BPd1RHbVJHYm8?hl=en-CA&gl=CA&ceid=CA%3Aen',\n",
       " 'https://news.google.com/read/CBMiakFVX3lxTE8zbDRHeDNBZVFhakc0MDBPbHRZMndYLXo3QVJIcmtkbkxyVGNtdFlxTmJKZVBBVHJkcGJrQ0JzaVZFa0RJdXZxc29nT2JJYmFNQk1mQUJ4WklFempfUWFUQWxxQjNVdDNZNHc?hl=en-CA&gl=CA&ceid=CA%3Aen',\n",
       " 'https://news.google.com/read/CBMioAJBVV95cUxQRVVUM25SaUFvNVotakJBQTBHMEZNRkxmdGVaU1FOSnBPX25BRHhmcUU5WlpjWXpfMlBSam5nNXNkY1Fta1N2cDlIWVFsY0E2ZndjMkNiOHIxbmE0ZVVjSHlwcm9vZ1dpaHNnM3djUXdQNjBBdGdnM3pEU0dRSlJzZ21Cc25OV0pheDZiR2M0UTRQSkpmWlpEeHpucTN3MFh2R3h4NHY4QUI3emZpU19fNk9VblRlSkFLY1VySzd2eEZ1TE80ZWxmVFczdGdCSEFESlFGcnZzZGVWZ25CMHJRNy1PQXpkSjdCOU1vRjhkQjZkRDB1a0FUbTlvODFsTHQ4NVVPclpraFJESWEwVUVxd0tyUzVhMUlhNkVrY1JnYko?hl=en-CA&gl=CA&ceid=CA%3Aen',\n",
       " 'https://news.google.com/read/CBMiwwFBVV95cUxPWk1POEktMEpRX1pTSVdWdnZXRHVKX29fby00VG0tLU0zeDdnRHI4TUk2ZmFwT3FZczh6V0xtYlR1d0VfRVAzTkFxUUx5UklzNEpkaHRTaXVTM2RzZ0ZRN2k4ektoN0o5dEEwcENnTTZ6XzlaWG9DTU9YX1Z0ZkVmLWNINm9nYlVnVXRBVDh2NUtkTE1HQmZKclU1TU1tTzNVVUkxTm5YM3pNS3VkUXNOU3ljQUFjQkxqZEJYVWpVc2ZQenM?hl=en-CA&gl=CA&ceid=CA%3Aen',\n",
       " 'https://news.google.com/read/CBMivgFBVV95cUxOYmVjWlhlVWtUZ1ZfWTNJZVlwU1ZiLTFpd1JEZGNVTVpfLWozMDBtMFpPNTdQeWRBNkN6eHhlTW5YWEZhbmdvYVNOWTgtTjBMM29HRWhnb2hCc2RhQzFROTFxbkNHMncwSDM2TFdaWWN6R3hwOWJHLUp6Q2ZjY3NmbWlPc01GQ0RFSjlKTko2Vk1Rc0lxZzBGQy1ROEJhMWFQX0dCNU8xZUswRmNScHU1MlNYdWhBdlk5UE5oa2Vn?hl=en-CA&gl=CA&ceid=CA%3Aen',\n",
       " 'https://news.google.com/read/CBMiwwFBVV95cUxNQjB0b3RDUU0zVjViX1ZMX0lzb2NQTjFlMUJrSUNKeGhPZWdIUzdNWW13anJJa1hUUi1jeGNXcGhVYVN0bzgxVGxEQVRjUHZxcE8wUUd5TjVpemVySWZ2Y1B1NDh4SkVwRDJZV19ESU9PSnFTTzUybDB0ak1EUHU3S09OY1pHZThVeW1SOUVVY0cybi05V0dxVVNaZVZmN1FuV25zN09BVERMaEhhTnA4eTdObWdmMVVidnVDVVY0bWI2SVk?hl=en-CA&gl=CA&ceid=CA%3Aen',\n",
       " 'https://news.google.com/read/CBMiUEFVX3lxTE9qLVk0ZkVTeFk4UGpBZ2NhSjg2T3Awa3FxajZsNHVEUkRvaEZGOUZoSmRGRVZTSzZhZ2lONVlCM1Y2MVZtaEdraF8xRlQ3eVpE?hl=en-CA&gl=CA&ceid=CA%3Aen',\n",
       " 'https://news.google.com/read/CBMihwFBVV95cUxQOXJfMWhJdWh2UjQ1SmVId2IxY09GdW5PNUd3MU10RWN4VHdNTHZmaUNsOWN4dUktOXV3MUJXdDFVRkoxSUlsLXlheW5qVk5CUDFPX21jeTNPZGE2QmwzUXpJVUptMkEtZTVoZExyemRpc21PY2xIcWxIRjFmaGVaa1QzeTQyeTA?hl=en-CA&gl=CA&ceid=CA%3Aen',\n",
       " 'https://news.google.com/read/CBMixgFBVV95cUxOam1xcV9fUDhxczRIcGR1am9MdGRWQTlhMV9KTVRZbUhXVEl6RzBXS3pPZDYtY25IT2hQMHZWRElpSTlFSnZGUzVfZk14MHRoSEsyWlptUFVpd3oxOVllb0pkeGtrbGVOcEJLdzRUbFZnc0dUSTV4dHM5dmhmZzRnTnNiYlZfN0xpZ3p0a1ZvZXMwNy1oc09zZGIyaGtVS1ozN1c3VEo1MXRJWm5BNUU0bjJCMjU1NHQ3R25JR2N0UVI3NTVUX2c?hl=en-CA&gl=CA&ceid=CA%3Aen',\n",
       " 'https://news.google.com/read/CBMixgFBVV95cUxOaEpsWndzU3RkTDh4Y2lXbGVkY0YyNUdEYS1GLWxQbVdqZERxVVFKV1RjOWRfNlN4cUZIUENIeVBqcEdPdVhGNDliTDZQZEJreTFDTUdLSUJWTFJocEdUVmplcllpZEdRc0Zfc0ZmRG1OeUlCc3p4TmtpSW5iYzJDR2hlUGswdFQtWXZTX2Q0UkgxZEFkakNUd0t4VkdkLUFWVEk1bEdMQXFOekFMVUhkM1ljQVR4N3ptS1lzdnpjTjRzQzBzMGc?hl=en-CA&gl=CA&ceid=CA%3Aen',\n",
       " 'https://news.google.com/read/CBMihgFBVV95cUxPaGxjQzQ0cGVDRU1BTWhhaGhEUnhSb2lqcFNLY1NWajk0UTFxLUtkYVQtS0hzUGw3SUZRVWI1ckpldHNLc01uMFd6QUNzVll6UWJJdE5LTlJXTVY0QVBUSG9yZzNCOW1yQWdOZHZRdFhCbXdJTFpXTEdVbmgzQ3JSRVpEb2ZVUQ?hl=en-CA&gl=CA&ceid=CA%3Aen',\n",
       " 'https://news.google.com/read/CBMisAFBVV95cUxQejd2a3pPcFIwR0l2U093ckNvc3BZLVR0MFJLekUwbmh3VUR6eW1ZdjZ2Q3ZyV0N2eFVweGpreHdSd2lHY25LMVVxWjV0RnBueG9OZXdMcVFzcHc4UXpIc2c4QkliZzl5MnhKTVJETUc2ZkxwQjFvZXRoejdTa0p0dVc3cTZjSkNabWhuOVFxQS1lcE52aUZyNjF1OE41LWZuOHZCNWpfS2c1enlpU3BlSg?hl=en-CA&gl=CA&ceid=CA%3Aen',\n",
       " 'https://news.google.com/read/CBMidkFVX3lxTE5VdTNuanhKbjlONUozT1FoSmptSEhhZzZPZGVUMkFPcHpxZDlWTFNkd1RXQzA3MVJyZlhLTVNkTHFiQ0JZZGtKYWo1R1NoMEdwRHMwalNsZzJZdnQ1ZWNwWUtGUEJueXhzb1dRRFVaaU8yU1VON0E?hl=en-CA&gl=CA&ceid=CA%3Aen',\n",
       " 'https://news.google.com/read/CBMiY0FVX3lxTE5oLUdpNHcxSzAyT2J2amR0cGZibFNwNkVmS0loSERTcGFFX3paVEZTNWVrSjN6NDVTd2t4YUhpRUQ1U09nWlZBZ2hvXzFvaE00QmUyUmV0eHppcFBvOGtYUE1qdw?hl=en-CA&gl=CA&ceid=CA%3Aen',\n",
       " 'https://news.google.com/read/CBMiigFBVV95cUxOMGxzX21fbVNZdzVUbk1ibXhMdmRDTktGUjhkaGZvc0RyR2JrU2x4dlhTeWtTMWNPeFlTek5SdVZ1OVNRQ1VnSWhOMVpJQ29KVUxDUG1DYndKRTQ2OWtRaWI0Ykx2R1JvSW5rUklKcmxJcWVSSVpub1h1bkNXN1ZSc25TQUFRQlQtNkE?hl=en-CA&gl=CA&ceid=CA%3Aen',\n",
       " 'https://news.google.com/read/CBMisgFBVV95cUxPN3p0V21IdkFtSXh4a0Z1bTdHdW1kREQyRnJNX2dLYWg2ZURXblQwY0t5S2FoZjBWTWZ2S3JxaVNWY241elhGaGhSWjYwbnZBTktGVG9zZUN3VE1mQTBHRU8tck5DWTRSMlp1UTh4YkFkLU50TGxFNGNSUS1DOWsxZnU4bDctNXgzUkZ2SXp2TEE0VFlQOHJ6ZUl1aTVsX0NCSVB5Um45dGpsUzA0UlNIdUJn?hl=en-CA&gl=CA&ceid=CA%3Aen',\n",
       " 'https://news.google.com/read/CBMimgJBVV95cUxQQ2FsTUItdTJIcFBsNUFuUlkycnVMdkJmYXVQdW96RXk5T0s2em5PRDlqTlBGUE1Fb0VyTXNuUEU4dG52czQyUllCNFVCbG1jeFoxOXNDQ2lQSDhiSjZhOWdaLU1mNG5ubVhHVnFXN2k2LUFZZHZGTjJRU0Z1cXZLQ3loN3V2bGZ4VDlfUHNoRGJkWGNoOGFBYUFqWVY4QTRzSExfZEExSmM3RTVJbk0zSTB6emdFV3o3ZHFFZnZiLURRZ3hseVlXT1d2OG1rWjVPVUxERktFMER2aXM1cks5NVU4UkR5OXJacDhlRy1lS3lLSnJrWVQ5QnFOVE1lNkJ6Mnp6UW5NZ1llYm1fd1p4RWlXR3UyeFA4UUE?hl=en-CA&gl=CA&ceid=CA%3Aen',\n",
       " 'https://news.google.com/read/CBMihgFBVV95cUxOQl9qQ19kby1aNXgyZmJONFk3ZldBTzJXS3dlOHRzM055Ty1LTTAxMzdmenZuTHdQVVQ3YWRoLUFUY1VhVERPVjdkN3IwcEowd2JxeGNjRDU2RTNLLW9YaWpwNXRHbHZVRmFTYi1PN1V0RHhnUDh0alRQWk5ScUtEMENUTURfUQ?hl=en-CA&gl=CA&ceid=CA%3Aen',\n",
       " 'https://news.google.com/read/CBMiwgFBVV95cUxPLVJ4UG5SVVZqVGI1Q2JNaTR5U2hxZGtpNFBkUnpwcTcxa1JMTUpINml2eTRKdGpSQl9SOFN3aEZqQTZwcVhRaXVyQl8wbEJKRmhHMXg2aVZDUG5JZmF4a3c1MklyNWNJNzlEcVdUVEZmYjRMOFYwQjhXVnctOGdnMS1Bamg2eHN2YUdJZ2c4UjhhRktmemhDb2xERS1FNTJBaUgwdU8wc1BIWHVkUzB0ZDFSNzhfcldKbzkwV0Z4MjV3dw?hl=en-CA&gl=CA&ceid=CA%3Aen',\n",
       " 'https://news.google.com/read/CBMikwFBVV95cUxPZ2xFU2RiZVVEekRuZGZXLWF4cW5CLTJ0aDBVVjVTYmxrd3EwWVgyQklpREktYVNGYWMtdUpydVNXN0NhMnNMS19Xb2V6ZUdQZE1QZ1FfaF84QkVLTEpONnJOSkxGVmphOGJDblZLTHhsZW5hVG05R1p0M1BJX3F0T21CQXFxbWx0UXYyeXNEWUcxQWM?hl=en-CA&gl=CA&ceid=CA%3Aen',\n",
       " 'https://news.google.com/read/CBMinAFBVV95cUxPRXFqcU9GM3JVOFBqd1hNRTJSWk1ESzJDY3lVNy1HdzRvb1NCcnNNLU81TEZ3Q1FwS1ZzMzBLeFVYZlR4dlh4dHNDbmlRZUpCM3BaSVFRdGJTZURfY3F3SG1oeEtFNUVqNW84MFE5UVg0MElhRmVnbmhQZ04zTEhqRUEwTnl1LXRQRVRDQkRiVC1lcWNKQ3JmYS1GTUQ?hl=en-CA&gl=CA&ceid=CA%3Aen',\n",
       " 'https://news.google.com/read/CBMiX0FVX3lxTFAwYUtfUHRYZ0VlT0hSN0Ftb3VYVjNJV01iRXcxczlhb00tQ05iVGRsRlZjZzRpdEVZbGJYcWhJaGNmLThlSnVBOF82LUlmZVA2QXFCXzRtVmI4amhCTWJr?hl=en-CA&gl=CA&ceid=CA%3Aen',\n",
       " 'https://news.google.com/read/CBMirAFBVV95cUxPVy01SHNhenFhVnNZVlJpa25IaGZFQi1UR213U1hmX1hsWmdJNmdkT19XU0Y0ZEN1dXZaU1dwMXpZaXZqMjNWZ1JPQzZDTnZNemZJMWJyekdSLWxnR0pjekppZnVQOWxaSHJiZ2lHWmk0LTd3c2M3X0pfOUp1RVpaaUxGcThVdVZEOHUxWlFHeF84MGJJV2dnZW1lblZ4cHpjVkhhekt2VlNjVzE4?hl=en-CA&gl=CA&ceid=CA%3Aen',\n",
       " 'https://news.google.com/read/CBMiiAFBVV95cUxNVlVSOWdyUGJvOW41MWdNcHp6ZExCU3cxUDAxd3hJY0pSWDFYOG1iSzRBanVGTWoteHZ1eF9acWc1T21KU2xJMTFkdThDLVp6SndHYU9YblJrQ2Z4VWRtSGpDS1dydHZKLWR0ZENPS0JwemZ5MldEZXdKaFRWdTR6VVlCdExwWGd60gGOAUFVX3lxTE55dXhqNHN2VjYyeWdqMm5aUjNhUjBoVExLN0dzQm11QjdoSGkwbmFKT2o0ODBEWm4yYjl1QUVtVVJlZlhuTUZ4OXJ5ZWx4MEhwUzI0SXJiT2JLdEFUV3FkaUp0WVgyLW90cERVX2NMSkNHaFFYdFg2R0JTSmtKRWtaRWhEM0Joa0ZUbkdkQ0E?hl=en-CA&gl=CA&ceid=CA%3Aen',\n",
       " 'https://news.google.com/read/CBMilgFBVV95cUxQWUdJN3pTZHN2ei1tOUpzSlVQRlhsZWVKQWVzTi01SE95YUkzSUpPZ3dxdTB5OUE5MUgzclhtbFc4MXM1UEpWRVlNcENTV2pQMWpxVkVNTHhpYlh1OXcxTXV4bFNVR3h3YW4yMzhLVU56UlJlbThpWEp4X2xNMkFud0R0c0ZaVnh2TU5CUEpPek1aY3R6Wmc?hl=en-CA&gl=CA&ceid=CA%3Aen',\n",
       " 'https://news.google.com/read/CBMimAFBVV95cUxOUnFOcGF4cm1jeVNxYWxXRUdLWmx6R2ZKc2tvb0c3MmRfRmNWeFVUR093ZndlT29iUlgyUS1uakUzWnl3VlJwQ1BxUWZyNG5XaGN1UGkzMGZJQkM5Rzcyazd2ZkJJcXVsVWVKX3F2MVlldENlN2g2cmRhNG9wZUNRRkxEU1dWaUl3VUM4N056YzQ3RFBZRjlaLQ?hl=en-CA&gl=CA&ceid=CA%3Aen',\n",
       " 'https://news.google.com/read/CBMirAFBVV95cUxOOXR2T1NzNnZJbkE5Ym5YdXM4c0taSFgtMnh0cmNjMXZ2azlCaE01bjZyeVRNcndhNEFReUpqazlIZ1J4OW1QUGloS1plTmdZSUtJcUlwSkZuMzNhc2FwcWNCWk5RYzZyYXlGeTZsWkhuUTlpZ2kzcnQzVDF1RE1BaVNNNERET3F6aXBfbjEwc0tqUzF1U1Y5RlQzVlhWcTZkMEN6SjBleWZvN0Rp?hl=en-CA&gl=CA&ceid=CA%3Aen',\n",
       " 'https://news.google.com/read/CBMirAFBVV95cUxPd0c2aUt5V291UnJWQ2w3UzQ0dWppZmZ4d3NxNnd3dEJOSl9nRG9Kb09WZEdXR2RRNnF3OF9sN09ud0NkZU01REZfRGdMNThwa2dBRVAxSGRkUHhnTlhEWFdLQ1MxY1h4ZmZyVVhDb1VkVkR0VWtYc3pNYmhJTEtsaExDeEhCQWJUWkVaWHZCTUdQamVuWnNFN0IwSHVpRlhyQTRmNzdnVmVYX1Bu0gGsAUFVX3lxTE9XbVZDVTN2VGY5OUs1d2hNWjlEdWNqTlEyS045dGhtVU43cDUtZlNLQ2pfVTRNTE5XeEdXNk83c1p4LXB2bVRza0lzSUw4M21mZFRlX0RQZ3BoU19CNG9zLWFrcUl4X3RSZ2VpY2dSUkVsc21vQ1RRdjJGazhvNTZXazVyWWl6NEJvTXdWcE5uMXJmNUQyV3NuRWJuLUt6TjhQZDlhbkliRldfRXI?hl=en-CA&gl=CA&ceid=CA%3Aen',\n",
       " 'https://news.google.com/read/CBMivgFBVV95cUxNTW5NSEZmbXAzYk1ZbDRNbDlxX3JwdEJNb0JBOUdteU5sR3duc0FCTktheU5VWUNZcERyTElDMEVJMTlScGFoNFB6Tk1mTmFRclp0N1RIazNxQ0RERFdzVmlpOVdXYlF4SDVTZ3A1bmt1cHV6aGg2cHcwMU11WVpmNGxObFNyZF9vVk9PdFozLTg1R2hYbUpNMWVCc2E1eXpZV21FV1JKUHpabXVlSk5PLTRIWTF0YjRmRW1yREpn?hl=en-CA&gl=CA&ceid=CA%3Aen',\n",
       " 'https://news.google.com/read/CBMiuAFBVV95cUxPOG1sR2NLalhPS0hSd3lUaEs5QXpDeVdBbEhBWG1ORWVIbWpDTWdOQkd2TnJyUTRtVVB0dDRraW14Q3V5NjI3ZFZ2RUlFdG50cENndWFFVHRRNzRzZDVQMXhxU3lCMHJxRWkwVDhFOEQ4OG8yXzBrdy1xY29RRXFxdWE2eGZMY3M1WUdjclhQSktVYlVMZUFPMEFQNk5lSkxmNGdZMEtXdVR5RHQ1UU1OTTk5Y1pSSkM5?hl=en-CA&gl=CA&ceid=CA%3Aen',\n",
       " 'https://news.google.com/read/CBMixwFBVV95cUxQTHNEQThFbDN3ZXcycDNkSEpndUhZS3dvZXVWZE1OcUhPbnNTbGpCNllVc1FzdmRoZHQxLV9pTnZTZnlhX21KTldScnBFcUU1WVppRkFDMGdBQUtKWkszOVVoMmtQb3NRMWI1MHBoYm9teEhIMmNadHpuakpvMG1FOW9FRGJVMC1kYm1MdXJxeHVzNVY2cTh4VU9GbzlMS1JUNzZJTkxLOEJxcnlGQTVRUi1wS1VhYTBwZWw0Z2dxZWd1LWIyS3hZ?hl=en-CA&gl=CA&ceid=CA%3Aen',\n",
       " 'https://news.google.com/read/CBMiakFVX3lxTE5JaHBLS09PbjJhbG9QZElYVkZuMWEzZDBHQjNJVkJNeklMMDllXy12YURVbGxxUGxLQkhlSl9WbzcySnV0RzFaRWJNRmNDMmJVS2F0aHliX3FKenZrN1k3bWROc0ZqdjlRcGc?hl=en-CA&gl=CA&ceid=CA%3Aen',\n",
       " 'https://news.google.com/read/CBMiswFBVV95cUxPS0dCcXp5dlhkWnZPRlFtUHZvLVhWMk9HT3NQOHY3Sm5ldnpwMkJyRHEtbF9SYkJicklIT2UtQXd3dG5WcWplRWkyQ0xjcGNxYXBLR1VTQmFJQldrcVlsSWF6VzgwZ3ZRQ3F5Q21iajRuWFdJTWVIeERLTkJkSjFQR2U1Tl94SFFtcEt4cDJ2TWMxYmxNbUNIZHRPSUh5VllTY2pra3BpMWRSTVhZOEd3U0R3Zw?hl=en-CA&gl=CA&ceid=CA%3Aen',\n",
       " 'https://news.google.com/read/CBMiygFBVV95cUxORDJSTkJLMDFETHh4SHJJYmdoTDd1bm1yaTAwYlFiZVpJdXlFN2ljNG93d1A0VU5JNmZBREU4cUhqOTl4Q25ad3p4dU56WU1lX0VBUUhBUldxcEVyZnRZRDRnQ09CWW1FNFM0TnNEbzdFM3JFdTRFWl9SVjNrb1FRYTZ0c2Y0SXJKVno4OHJNTEtoZFpwQzlCMktoZGx5b1M0c0Z6SHFqMUF6alpYYjhfY3BiYXp6RjltdnlvZGxQMXZLemxJLS1uM29B0gHPAUFVX3lxTE53dUVFMFhpX0s2WFV2dkhlWE1EVkE4VVNNbjItTUdTSXdYV1cyZEpJMUFCVXE2NGVlTDY3N0dTQnphV0pFa0Z2aXBuZmZscHZadWxLYlZFTFpXVURrVS1YbzYycjhMTGRYNzZfT0FLbk1uRmFHWjhJMUt2T2RFbUR0U1hUN3pEXzF5SmNIMHRrNUN0anRlZzZUd01xMVBtU2txWmZWNTZlbnYyLVZiaGw0LVA2aG00VV8yUU81S2x0akVQM0FnN2dVWGtibGF4MA?hl=en-CA&gl=CA&ceid=CA%3Aen',\n",
       " 'https://news.google.com/read/CBMilAFBVV95cUxOZVh5cXRCamM1c19wbDRnQ0RIVTdacWM5ZHg3MFpCbzBZRW9yMVFiUnZmcjBVYmwtQWx2UDN5VTRjLTMzbDNKeTlaemxfMTE3N1JQQjVFTXNWRXlCb2FvcWx2ZndKUjMtQXc1YWd6TEVrZ2Vmb2NzTFdCVG9MRXZ6cjNGZTVKYjJTeGRXZXdBZllYektK?hl=en-CA&gl=CA&ceid=CA%3Aen',\n",
       " 'https://news.google.com/read/CBMiYEFVX3lxTE1PTFlhLWxIN2tUNjhxUjhnS2hReHMtRGtsOGJSUmdqRzJlNXpHVGt4bUQ2OTlpSlZQcnl4WFBYUGlvMlpzVmNWY3ZOY05PSHNCSHdXMms5SmVwdXMybFVCSw?hl=en-CA&gl=CA&ceid=CA%3Aen',\n",
       " 'https://news.google.com/read/CBMipwFBVV95cUxPWnZ0cGlzOXVTMktsc09LQ0tXa2x3MEZLd2pZckdNSFdISk93NFAzUDczdHRUQ293c2NVT0pnZ1o0YTU3MlVuNktYSDUxc3BGNjZGUE1LQU93N0lGNHZ4T1NnR1JLQXRuSWJGUmJ6ZEhxT3N4UDRKTDJ2Ym8wc1RBRE5WWTZ4ZEJqOXNDc2xLRFNBSll1QlBOZzMzVU9TZHk3Sk5qUURNSQ?hl=en-CA&gl=CA&ceid=CA%3Aen',\n",
       " 'https://news.google.com/read/CBMifkFVX3lxTE0zQlBFeEJiZXlIcVhwWVVUT0cwX0hEUlppOHVXSlJ3N2VhSDVaQWdINWhGSTBVRXZoMmtndm9YTUtnbEdPTF9PU3ZDM2xBMFBSOUVUMVZIZXNBaTFRSUFXRmxCVXFPeUd3YnV0STBBMmRSUWVJT1lSODhqRTFvZw?hl=en-CA&gl=CA&ceid=CA%3Aen',\n",
       " 'https://news.google.com/read/CBMilgFBVV95cUxOdnpwbnhnMndnSWZ0QWptcVk5d21CSzg4WjhDankwRkl1dDRmcTRpZGF5ZTdIcFZld1FhYUhyMHJicFczQUxlZnEwSDczZ1R6VXNiMmRSUEZvVnpXSW52dGo2MDN0NmNFeGZvTHc4Q3c4Zmk4eThwWEpxYTc2ZV83VHkxa0dxUU9Ta2dpeE1ZUlVwRVlYZXc?hl=en-CA&gl=CA&ceid=CA%3Aen',\n",
       " 'https://news.google.com/read/CBMihgFBVV95cUxPcFdaRjQ0TE9jckJQYVpPaUZyM2F6azdUUUVPWXpVMHRqVFJSeTY5YnVZUlJfQTBHQlRFUmdfc19KVmtZUzZpdF95YU9kTDloNUI0S3V5cUJRbnZFMFpaZ0tFVFNNbUViVTRlN2dYWTdDMHVydVZldnUzNEJuREJCQk5ZQ2xDZw?hl=en-CA&gl=CA&ceid=CA%3Aen',\n",
       " 'https://news.google.com/read/CBMi4wFBVV95cUxPZ0lwMTVfZDdLSWpiNjVtemhUOUVyWm1LTEV6NXBvSjlPVFN0UjhUNGJxNDh0OG9jX3hJTHdybXRhZnV1TmxYamF5QklNUXNtS2xQcXprNnUwRUhNQ2JoRVNYcnB5M0pEUDBFOS1qcVl2Ul9HNjcwSTlwYWFVcjhSZEFjSXpvX3d1STlPc0dlNXlmNzRBVmlUQkxMeWU5ci1sQ2RLZ0JJanJMSEM1VU1GamJZZWRFalJSNDZrbXlsTWFNeEx3RUxYcERvNVZlVEgxNGQyNVRNbW9hcXRGcGxDVXJ4TQ?hl=en-CA&gl=CA&ceid=CA%3Aen',\n",
       " 'https://news.google.com/read/CBMieEFVX3lxTE9mWk9ON1BmZDk4bzVIMkZ0dXphRVJpSXV3em1QeUhweEtoU1NEX0NEZWktMERab0VvaVZsNjFTUTFpMTBfTnVMUXhILW5PYm55Sm9aQW0zLWVReTNYdlo1SHFvUjhEY2NMQVYxa2FiVW5kS3BxbTYzWtIBeEFVX3lxTE9FMmktaGx5bzk0SHp2V2R0NzZjQVViTk1xOFNMdS15OGx0a0w2ak5JZ3NQaW9IVDR0LUF3MDJHZmFpMjVHbFZwNDVLSkpFZG80WmExRWJDREthT3VYU1RfQVNCN2pCUDUzek9yMmgwNmtGbjBvZU1tcw?hl=en-CA&gl=CA&ceid=CA%3Aen',\n",
       " 'https://news.google.com/read/CBMiY0FVX3lxTE9sMEh3ME1iT2habjJXNWpWQWJlRVF4V3djYTZraFpFYnlRY1AxY1ZkZG1NckdlSm1pVHdBZmhXOFhmM2pLVEdVX3BIVE9mWDk2Q3d6SXk5R09tSlNQeFBnTVp2MNIBaEFVX3lxTE5WQWtqWjlLcVB2WU0xQXBjSjYxSDdXdzZaOXlKSGxiY3hHUjMwM3RpdlJzNXhqRU5ZTnRrWnd5ei0xTm0wMi1zR3VIa3dKZERjN09Bb090UzVUQXlXSy04OHd3WFA1QVM0?hl=en-CA&gl=CA&ceid=CA%3Aen',\n",
       " 'https://news.google.com/read/CBMilgFBVV95cUxQYTFpZ3Y4dVVJMm91WXFfQXlIa3hQNjMxUVk5MjJGUVlzTmc2X2NhLWpqNE1vbkZmSUJhTlhHMEkxaTNLbzFHTV8zYmZyZUFZV1pidzVRN3dXa2ZhbTRQV2JYTVdtVFI1TjdZTkhqbzNVTFBqeWNSbkRLcGJKUlMxU3E5SG9GZ3gtdnctRUs3aFR2NlpTeGc?hl=en-CA&gl=CA&ceid=CA%3Aen',\n",
       " 'https://news.google.com/read/CBMizgFBVV95cUxPWjdZUW5vajZ4MnB2TEJsWU5zMW1Kc01BZnUzSlhYaDByX0N3bnBVSHo3Y3Q1MVZsU21oT2dKQXhSYXU3eFBTOVd5cXUxTDdXemRCc1JtNVRWS2lxSDBHajdNLTUyTHM3RGxxeGYzQVhvUHd2a1FNVnNwMlZoMTZFcFJ2Tjg3QzMyV3lRbE4wcVFtTE1leDV2bjlZUlV6QkUyU3RtV3A1UFpFYUtTVE1QYktIV3B1bnN3dmdFY0k5Z3FOY2RhRkkxQzFsaWxwUdIB0wFBVV95cUxQaDMwUk8teUNNazYzSFVNSWhUN2dvcDZiTUpWdFpYeXhlY2xvX0NQUWFDREtaaFJyNWRKb2libW1lclNLdHZmQ091TzdOVm4xSktsN3hweG9icTJkZDRvOVRtVmtqdkpHYlBQdGVhVmNTakFubTZSd1d5T2czS2V4SGZjYjRXY1g4SHM5WWY3NnQxcU9FeWRxcFJvVGFocFZQWHVhSlJiM01tSWszelYyMHJ1YWExc0hseEdYT05CZzdOMlUyemdJZEtDTlJRemdLN2lr?hl=en-CA&gl=CA&ceid=CA%3Aen',\n",
       " 'https://news.google.com/read/CBMiW0FVX3lxTE5LcWlocVNJZ2hiLXNpUnpEY2x1SVNOY0NTaGE1VEc2RElTSVFrX0tmQ3YxN0J2TUpvVEVQazIxcGdfMFRFQ2JLOHBzNzlJc1VXekJxNU54MkVBLTQ?hl=en-CA&gl=CA&ceid=CA%3Aen',\n",
       " 'https://news.google.com/read/CBMirAFBVV95cUxONzdCNlJKc1dkREdONk5oaVVHZW1BaERZa0E1RE5BeUliVjJRN3dYUmd1ZFZ5V1IxbWF5RngzSzI5aHNOLXlLbS1lQ3dmX2VIRm83MEFOVzJKWXRrZzFjLWE4MVpVTXFsZ1VLRDZYX0RERGRfM3hlN2dXaUlOaFU0S0VxLXhkZ1RleHRDUkpwR1ZxMHJaSG5yOGtsbWhmQVhhSHMtRzdWNzJBWkh5?hl=en-CA&gl=CA&ceid=CA%3Aen',\n",
       " 'https://news.google.com/read/CBMingFBVV95cUxPQ1hheUR6S1hudmJ0b1k1a3M1ODBhbGM3VHcyamZ1SjNxNDd5bWVtTWJBejlPRi1GVFN6V2MxVDRyWHBsdEs3OVVBLUJ0YThWdjFkOXUyMlg1S1pWV1U4aTUzemcydDhneGdhN191ZnYxOUstNU4tOVVRTkg0QlhBeG1BUjJ1d1dhRmQ0VzMtNTYxRksxRGRiNm1BRjM3dw?hl=en-CA&gl=CA&ceid=CA%3Aen',\n",
       " 'https://news.google.com/read/CBMimAFBVV95cUxOWkExZG1LSVZxZjJBNnpWRHNxMkVPZi11MnRQVUJ5Z1FyT3RGZXBPNS1xRTNlVkxQekNrZHZWVDJNRllCUTJwbHVTazVsbnFSYUVYb0ZpLVF4RGo2MkZLUG04aFY1UWRrZ1JLUE5NOGZMNzNnXzlRNC1zNS1jaTR4X1JwbkU4VzJCN3NTSnJsZlRnLW1vaWpDbw?hl=en-CA&gl=CA&ceid=CA%3Aen',\n",
       " 'https://news.google.com/read/CBMitAFBVV95cUxNejk5WkhxdURYY3RRaDVPbVh6bl9hSjVPLU5BYmYxU3NvczJjMWRocERqbkdyM0xnRkRBZElJRE45c3M2Q3hESGJLUmc1bnZ0WERUd0ZINmllckRZbGZhQnlkOURqRGtpNGJMQmotc3VUdGptWFV1enRxNWtsQ1ZzcldsaEs3dlRmYlhla0k1TkJEVm9obXgtUDBzV2VKTnpQZlotU3JGZlFIOXlzRkFnajhMOFo?hl=en-CA&gl=CA&ceid=CA%3Aen',\n",
       " 'https://news.google.com/read/CBMijwFBVV95cUxPSlBSaGVmU2gzMzNmSFRjLTZsX2pUWmN2ckFuRmdjRWJPUUtaNkxGQms0MmNCT1BldzFpck9oeG5OZVJ4XzJMREp6WUh0cWVkTEE4ajlWZ0gycUVlN1FLNl8teEt3THpMWmtJcURJeUlWRmVUR3pfX2FrUGV0Q0pEYzJ3NEt4cEJwVTlQUmVVQQ?hl=en-CA&gl=CA&ceid=CA%3Aen',\n",
       " 'https://news.google.com/read/CBMiuwFBVV95cUxPQ1Q1cEdxanFTQ0J5WFJDNVlVTzJ1cENudkJPMkxpWGFpbnl5QTYwV1l4QlJVaHVBTk1QaFRsZFZOUDFVU2l0VkJET0k2SmZNYUZfbzQyMHVQeTZFZmc2Tk9mTDE0RWxza3FKbU1Zc0ZmU0xLS2xyMm9QYnpKZmxFWHk2WjR5VFJEU3ZRaGEyR0pVWGpOdmNxVGxYeUdtT2VVWHpiRzBlOUNuRy0wNUxJUlYwdFJuaW9DV3Vv?hl=en-CA&gl=CA&ceid=CA%3Aen',\n",
       " 'https://news.google.com/read/CBMimwFBVV95cUxOcEtTWS1vU25oaHRNTkQ3SzZaQ3MtSTdaM2N6b3NQVkV6djhyWTFJc3NUZmw5alY5elFqUzBlVjVCSXJKQ0ltdXJuMHFtUncyUjNyVWRjRjhybXZyWEZSSG95T0tGZ0J5MTh5T0U2S0ttSlpmZ3kxNEdsVWtqdmlEVE9pekJ5VktRMjNaUTVpZ01YbDg4eURrYlhDOA?hl=en-CA&gl=CA&ceid=CA%3Aen',\n",
       " 'https://news.google.com/read/CBMiigFBVV95cUxOcTBVa3d0OV9LcUlKWUxmSFFHd1pDX01tczBJZnpCZU9reVZmdmFXMFR1WktCREl5OEN0Z1I2bVJjQmhBbnF1cXhqMUxYb1VSSGJYYllhYTZyNXlabm44aU9ZUnllNU1yUkJXV0pXVDI0akNoeEZicmJnNnBQVVZOejE2VmZKaVlzT0HSAZcBQVVfeXFMTUgzcjM3OEpqMGJfLTRCMUhRaVR0NVRqRW14cm1udUhvRTU0SFdHUTdjc19DdVYwTjBWZTFqczNCZEdoenMxMUFkTWN3eE5LblVMVjFUS21DVU9KSGdUYlM4NldySUY3NjQ5TEVuVWxDZ0hpRTV2bEhackQ4TDVZM296UHdneGRGX3JldG5TbW41cXZSUkQtOA?hl=en-CA&gl=CA&ceid=CA%3Aen',\n",
       " 'https://news.google.com/read/CBMitwFBVV95cUxQa0xIc2lZclllcng3OVpxd0liNy11aU9hUHdBLU5KRVVTSTduTDU2MGVlTEVDTUhrYnBNWXpYeUowN2MwTWVjNTZMWlJXdjQzYXdTd1dkV1pTazJYeUlKMEhwdmFhcHVtUDJhSTRBZWg2NFNNR2NJOWZRc0lGeWoteVY4VnJCS0VaVEd0VUtxbXdKdWd0SGJQMTE0WU1rNFZIRDBoTXBHNHZYRnBRdGJwUm00RmRxb0U?hl=en-CA&gl=CA&ceid=CA%3Aen']"
      ]
     },
     "execution_count": 27,
     "metadata": {},
     "output_type": "execute_result"
    }
   ],
   "source": [
    "news_links"
   ]
  },
  {
   "cell_type": "markdown",
   "metadata": {},
   "source": [
    "---"
   ]
  },
  {
   "cell_type": "markdown",
   "metadata": {},
   "source": []
  },
  {
   "cell_type": "markdown",
   "metadata": {},
   "source": [
    "# POC"
   ]
  },
  {
   "cell_type": "markdown",
   "metadata": {},
   "source": [
    "---"
   ]
  },
  {
   "cell_type": "code",
   "execution_count": 3,
   "metadata": {},
   "outputs": [],
   "source": [
    "config = NewsScraperConfig()"
   ]
  },
  {
   "cell_type": "code",
   "execution_count": null,
   "metadata": {},
   "outputs": [],
   "source": [
    "site_url = \"https://www.chemanalyst.com/NewsAndDeals/NewsDetails/rapeseed-oil-prices-rise-amid-tight-supplies-and-growing-demand-in-europe-28036\"\n",
    "\n",
    "driver.get(site_url)"
   ]
  },
  {
   "cell_type": "code",
   "execution_count": null,
   "metadata": {},
   "outputs": [],
   "source": [
    "news_config = NewsSiteConfig()\n",
    "\n",
    "url_pattern = r'http\\S*://(\\S*?)/\\S+'\n",
    "base_url = re.findall(url_pattern, driver.current_url)[0]\n",
    "\n",
    "site_name = news_config.get_site_name(base_url)"
   ]
  },
  {
   "cell_type": "code",
   "execution_count": 11,
   "metadata": {},
   "outputs": [
    {
     "data": {
      "text/plain": [
       "{'title': {'quantity': 'unique',\n",
       "  'search': {'parser': 'selenium',\n",
       "   'syntax': 'xpath',\n",
       "   'query': \".//article[@class='blog-detail-summary']/h1\"}},\n",
       " 'date': {'quantity': 'unique',\n",
       "  'search': {'parser': 'selenium',\n",
       "   'syntax': 'xpath',\n",
       "   'query': \".//article[@class='blog-detail-summary']/div[@class='relaventnewspublisheddate']//span[*[1][name()='svg']]\"}},\n",
       " 'author': {'quantity': 'unique',\n",
       "  'search': {'parser': 'selenium',\n",
       "   'syntax': 'xpath',\n",
       "   'query': \".//article[@class='blog-detail-summary']/div[@class='relaventnewspublisheddate']//span[not(*[name()='svg'])]\"}},\n",
       " 'contents': {'quantity': 'multiple',\n",
       "  'search': {'parser': 'selenium',\n",
       "   'syntax': 'css selector',\n",
       "   'query': \"div[class='blog-list-data']\"}}}"
      ]
     },
     "execution_count": 11,
     "metadata": {},
     "output_type": "execute_result"
    }
   ],
   "source": [
    "scrape_config = config.instruction[site_name]\n",
    "\n",
    "scrape_config"
   ]
  },
  {
   "cell_type": "code",
   "execution_count": 12,
   "metadata": {},
   "outputs": [],
   "source": [
    "title, subtitle, date, author, tags, contents = [], [], [], [], [], []\n",
    "\n",
    "html_body = driver.page_source\n",
    "article = BeautifulSoup(html_body, 'html.parser')\n",
    "\n",
    "output_columns = scrape_config.keys()\n",
    "if Schema.TITLE not in output_columns:\n",
    "    title.append(np.nan)\n",
    "if Schema.SUBTITLE not in output_columns:\n",
    "    subtitle.append(np.nan)\n",
    "if Schema.DATE not in output_columns:\n",
    "    date.append(np.nan)\n",
    "if Schema.AUTHOR not in output_columns:\n",
    "    author.append(np.nan)\n",
    "if Schema.TAGS not in output_columns:\n",
    "    tags.append(np.nan)\n",
    "if Schema.CONTENT not in output_columns:\n",
    "    contents.append(np.nan)\n",
    "\n",
    "for output_col, parsing_info in scrape_config.items():\n",
    "    search = parsing_info['search']\n",
    "    if search['parser'] == Parser.SELENIUM:\n",
    "        if parsing_info['quantity'] == Quantity.UNIQUE:\n",
    "            parsed_data = driver.find_element(search['syntax'], search['query']).text.strip()\n",
    "        else:\n",
    "            parsed_data = driver.find_elements(search['syntax'], search['query'])\n",
    "            parsed_data = '\\n'.join([parsed.text for parsed in parsed_data])\n",
    "    else:\n",
    "        if parsing_info['quantity'] == Quantity.UNIQUE:\n",
    "            parsed_data = article.find(**search['args']).text.strip()\n",
    "        else:\n",
    "            parsed_data = article.find_all(**search['args'])\n",
    "            parsed_data = '\\n'.join([parsed.text for parsed in parsed_data])\n",
    "\n",
    "    if output_col == Schema.TITLE:\n",
    "        title.append(parsed_data)\n",
    "    elif output_col == Schema.SUBTITLE:\n",
    "        subtitle.append(parsed_data)\n",
    "    elif output_col == Schema.DATE:\n",
    "        date.append(parsed_data)\n",
    "    elif output_col == Schema.AUTHOR:\n",
    "        author.append(parsed_data)\n",
    "    elif output_col == Schema.TAGS:\n",
    "        tags.append(parsed_data)\n",
    "    else:\n",
    "        contents.append(parsed_data)"
   ]
  },
  {
   "cell_type": "code",
   "execution_count": 13,
   "metadata": {},
   "outputs": [],
   "source": [
    "articles_df = pd.DataFrame({\n",
    "    'title': title,\n",
    "    'subtitle': subtitle,\n",
    "    'date': date,\n",
    "    'author': author,\n",
    "    'tags': tags,\n",
    "    'contents': contents\n",
    "}).astype({\n",
    "    'title': 'string',\n",
    "    'subtitle': 'string',\n",
    "    'date': 'string',\n",
    "    'author': 'string',\n",
    "    'tags': 'object',\n",
    "    'contents': 'string'\n",
    "})"
   ]
  },
  {
   "cell_type": "code",
   "execution_count": 14,
   "metadata": {},
   "outputs": [
    {
     "data": {
      "text/html": [
       "<div>\n",
       "<style scoped>\n",
       "    .dataframe tbody tr th:only-of-type {\n",
       "        vertical-align: middle;\n",
       "    }\n",
       "\n",
       "    .dataframe tbody tr th {\n",
       "        vertical-align: top;\n",
       "    }\n",
       "\n",
       "    .dataframe thead th {\n",
       "        text-align: right;\n",
       "    }\n",
       "</style>\n",
       "<table border=\"1\" class=\"dataframe\">\n",
       "  <thead>\n",
       "    <tr style=\"text-align: right;\">\n",
       "      <th></th>\n",
       "      <th>title</th>\n",
       "      <th>subtitle</th>\n",
       "      <th>date</th>\n",
       "      <th>author</th>\n",
       "      <th>tags</th>\n",
       "      <th>contents</th>\n",
       "    </tr>\n",
       "  </thead>\n",
       "  <tbody>\n",
       "    <tr>\n",
       "      <th>0</th>\n",
       "      <td>Rapeseed Oil Prices Rise Amid Tight Supplies a...</td>\n",
       "      <td>&lt;NA&gt;</td>\n",
       "      <td>27-May-2024 4:13 PM</td>\n",
       "      <td>Journalist: Yage Kwon</td>\n",
       "      <td>NaN</td>\n",
       "      <td>The European market has experienced a signific...</td>\n",
       "    </tr>\n",
       "  </tbody>\n",
       "</table>\n",
       "</div>"
      ],
      "text/plain": [
       "                                               title subtitle  \\\n",
       "0  Rapeseed Oil Prices Rise Amid Tight Supplies a...     <NA>   \n",
       "\n",
       "                  date                 author tags  \\\n",
       "0  27-May-2024 4:13 PM  Journalist: Yage Kwon  NaN   \n",
       "\n",
       "                                            contents  \n",
       "0  The European market has experienced a signific...  "
      ]
     },
     "execution_count": 14,
     "metadata": {},
     "output_type": "execute_result"
    }
   ],
   "source": [
    "articles_df"
   ]
  },
  {
   "cell_type": "markdown",
   "metadata": {},
   "source": [
    "---"
   ]
  },
  {
   "cell_type": "code",
   "execution_count": 10,
   "metadata": {},
   "outputs": [],
   "source": [
    "html_body = driver.page_source"
   ]
  },
  {
   "cell_type": "code",
   "execution_count": 11,
   "metadata": {},
   "outputs": [],
   "source": [
    "article = BeautifulSoup(html_body, 'html.parser')"
   ]
  },
  {
   "cell_type": "code",
   "execution_count": 380,
   "metadata": {},
   "outputs": [],
   "source": [
    "article_date = driver.find_element(By.XPATH, \".//article[@class='blog-detail-summary']/div[@class='relaventnewspublisheddate']//span[*[1][name()='svg']]\").text.strip()\n",
    "article_author = driver.find_element(By.XPATH, \".//article[@class='blog-detail-summary']/div[@class='relaventnewspublisheddate']//span[not(*[name()='svg'])]\").text.strip()\n",
    "article_title = driver.find_element(By.XPATH, \".//article[@class='blog-detail-summary']/h1\").text.strip()"
   ]
  },
  {
   "cell_type": "code",
   "execution_count": 381,
   "metadata": {},
   "outputs": [],
   "source": [
    "article_content = driver.find_element(By.CSS_SELECTOR, \"div[class='blog-list-data']\").text.strip()\n",
    "# article_content = '\\n'.join([article_c.text for article_c in content])"
   ]
  },
  {
   "cell_type": "code",
   "execution_count": 385,
   "metadata": {},
   "outputs": [
    {
     "name": "stdout",
     "output_type": "stream",
     "text": [
      "Germany’s largest chemical manufacturer, BASF SE, is exploring strategic options for its agricultural chemicals division, including a potential listing in either the United States or Germany. This move is part of a broader restructuring effort aimed at reducing costs by over €2 billion annually, driven by a challenging industrial outlook in Europe and increasing pressure on the company’s operations.\n",
      "BASF has reportedly approached investment banks to solicit proposals for the potential public offering of its agricultural chemical’s unit, which has generated significant revenue, posting sales of approximately €10 billion in 2023. The division competes directly with global agricultural giants such as Bayer, Corteva, and Syngenta. The company’s decision to consider a listing follows previous remarks made in September 2024, where BASF highlighted that its agricultural business had been undervalued by the market, particularly in terms of its earnings potential within the larger group.\n",
      "The potential listing would provide BASF with an opportunity to unlock additional value from its agricultural chemicals division, which has become a crucial part of its diversified portfolio. BASF’s agricultural chemicals unit is a leading player in the crop protection and seed treatment sectors, supplying innovative solutions to help farmers manage pests and increase yields in an increasingly competitive global market. The company’s vast product offering spans herbicides, insecticides, fungicides, and digital farming tools, all aimed at addressing the challenges of modern agriculture, including sustainability concerns and the push for more environmentally friendly solutions.\n",
      "BASF's restructuring efforts are part of a broader strategy to navigate a challenging industrial environment in Europe, where rising energy costs and inflation are affecting manufacturing and profitability. The company has faced a slowdown in its traditional chemicals business, prompting it to focus on streamlining operations, optimizing its portfolio, and exploring potential divestments.\n",
      "Beyond its agricultural chemicals division, BASF is also contemplating strategic moves for its coatings business. CEO Markus Kamieth recently indicated that the company is evaluating various options, including the possibility of a joint venture or a sale of the coating’s unit to another party. This follows BASF's ongoing strategy to focus on core areas of business that promise long-term growth and profitability.\n",
      "The decision to pursue a partial listing of its agricultural chemicals unit underscores BASF’s intent to sharpen its focus on the sectors that are poised for greater long-term returns. It also aligns with the broader trend of chemical companies streamlining operations to better compete in a rapidly evolving global market, where sustainable practices and technological advancements are reshaping the industry.\n",
      "BASF’s restructuring program is expected to continue evolving, with the company engaging advisers over the coming weeks to further evaluate the best path forward for its agricultural chemical’s unit and other key divisions.\n"
     ]
    }
   ],
   "source": [
    "print(article_content)"
   ]
  },
  {
   "cell_type": "code",
   "execution_count": 394,
   "metadata": {},
   "outputs": [],
   "source": [
    "content_block = article.find(name='div', attrs={'class': 'RichTextArticleBody RichTextBody'})"
   ]
  },
  {
   "cell_type": "code",
   "execution_count": 399,
   "metadata": {},
   "outputs": [
    {
     "name": "stdout",
     "output_type": "stream",
     "text": [
      "\n",
      "Fastmarkets’ UCO CIF Amsterdam, Rotterdam, Antwerp (ARA) assessment reached a 2024 high of $1,070 per tonne in December, a nearly two-year high, marking a 21% increase from its 2024 low of $885 per tonne in March. \n",
      "Fastmarkets’ UCO DDP North-West Europe (NWE) price for the inland market reached €1,175 ($1,222) per tonne in December, a two-year high, up by 28% from its 2024 low of €920 per tonne assessed in January.\n",
      "“So many factors pushed UCO up and down in price this year; firm demand and high vegetable oil prices kept prices at high levels at the end of the year,” a European source told Fastmarkets.\n",
      "UCO prices started to uptrend in May amid expectations that the European Commission (EC) would announce preliminary anti-dumping measures against Chinese biodiesel as a result of an investigation launched in December 2023. \n",
      "Sources anticipated European UCO demand to increase in order to cover biodiesel supply shortages from China, which mostly comes in the form of used cooking oil methyl ester (UCOME). \n",
      "Price dipped in September to €940 per tonne DDP NWE, close to a 2024 low, amid lower trading and a general downward movement in the vegetable oil complex.\n",
      "“Anti-dumping measures did not cause as much damage to UCO prices as some people expected and after a little bit of panic buying prices stabilized,” a source said.\n",
      "On November 15, the Chinese government announced it would be cancelling a 13% export tax rebate for UCO exports effective December 1, causing a price spike of around 25% depending on quality specification.\n",
      "After trading at $850-870 per tonne on an FOB China basis, offers for bulk shipments reached $1,000-1,050 per tonne for UCOME specification UCO, while UCO for hydrotreated vegetable oil (HVO) production was reportedly offered as high as $1,100 per tonne FOB.\n",
      "The price increase encouraged European importers to turn to alternative origins, sourcing biofuel feedstock from South America, Middle East and North Africa at more competitive levels, but volumes remained insufficient to fully cover demand.\n",
      "Expensive freight rates for both container-sized and bulk shipments also added to a disadvantage for Chinese UCO in the European market; sources expect freight to stabilize in January 2025.\n",
      "European UCO prices trended upward in November-December amid consistent demand and low availability as well as firm vegetable oil prices, particularly for European rapeseed oil and crude palm oil delivered from Asia. \n",
      "2025\n",
      "Sources expect global UCO prices to continue moving up in the first quarter of 2025, supported by demand and general feedstock availability.\n",
      "UCO demand is likely to grow in Europe with sustainable fuel production mandates increasing in 2025 and a 2% sustainable aviation fuel (SAF) production obligation being introduced.\n",
      "Some European countries are to decrease or ban virgin vegetable oils usage in biofuel production in 2025, adding to waste feedstock demand such as UCO.\n",
      "Palm oil availability for exports into Europe is also expected to decrease as Indonesia, the world’s largest palm oil producer, is to revise its biodiesel blending mandate up to 40% in January from the current 35% adding to the country’s local consumption.\n",
      "The country’s palm export duties and production concerns also contribute to lower export expectations.\n",
      "\n",
      "\n",
      "View our used cooking oil prices\n",
      "\n",
      "\n"
     ]
    }
   ],
   "source": [
    "print(content_block.text)"
   ]
  },
  {
   "cell_type": "code",
   "execution_count": null,
   "metadata": {},
   "outputs": [
    {
     "name": "stdout",
     "output_type": "stream",
     "text": [
      "\n",
      "A group of U.S. farm state senators is urging regulators to tighten controls on the rapidly increasing imports of used cooking oil, particularly from China, amid concerns over potential fraud and environmental impact. The senators' call to action comes as U.S. biofuel manufacturers increasingly turn to used cooking oil to produce biodiesel, a product eligible for lucrative federal and state climate subsidies.\n",
      "In a letter addressed to several U.S. regulatory agencies and released Thursday, the senators raised alarm over the possibility that some imported cargoes may contain palm oil, a product associated with deforestation and environmental damage. The dramatic surge in imports has seen the U.S. go from importing less than 200 million pounds of used cooking oil annually to nearly 3 billion pounds in 2023, with over half originating from China.\n",
      "This development occurs against the backdrop of a global edible oils market experiencing unprecedented growth and volatility. The increasing use of oils such as palm and other edible oils for biofuel production has led to a spike in its demand and inquiries, further exacerbated by Ukraine's reduced sunflower oil exports due to ongoing conflict. As a result, edible oil prices have reached record highs this year.\n",
      "The diversification of edible oils into biofuel production has transformed these commodities into a crucial component of the agricultural complex. Government mandates worldwide, such as California's Low Carbon Fuel Standard, require a certain percentage of fuel to come from renewable sources, driving up demand for biofuels. Industry projections suggest the edible oils market could grow at a compound annual rate of 7.6% between now and 2029.\n",
      "However, supply constraints in palm and soybean oil production have struggled to keep pace with the surging demand. Palm oil trees require significant time to mature, while soybean production has not seen substantial increases in agricultural land allocation.\n",
      "The imbalance between supply and demand, along with increasing energy costs, has caused edible oil prices to rise. Additionally, high wheat prices due to the Ukraine conflict have contributed to an increase in corn prices, further complicating the situation. Some farmers are opting to continue planting corn instead of soybeans, potentially keeping supplies tight and prices elevated. As the edible oils market faces continued volatility, driven by trade tensions, growing biofuel demand, and supply constraints, it remains a critical area to watch within the agricultural commodities sector. The senators' push for increased scrutiny of used cooking oil imports highlights the complex interplay between environmental concerns, energy policy, and agricultural markets in an increasingly interconnected global economy.\n",
      "\n"
     ]
    }
   ],
   "source": [
    "exclude_tags = ['audio', 'video', 'map', 'iframe', 'form', 'button', 'img', 'figure', 'figcaption', 'article', 'caption']\n",
    "\n",
    "def filter_tags(tag):\n",
    "    return tag.name not in exclude_tags\n",
    "\n",
    "print('\\n'.join([element.text.strip() for element in content_block.find_all(filter_tags, recursive=False)]))"
   ]
  },
  {
   "cell_type": "code",
   "execution_count": null,
   "metadata": {},
   "outputs": [],
   "source": [
    "\n",
    "\n",
    "metadata = NewsScraperConfig()\n",
    "\n",
    "fastmarket_scraper = NewsScraperConfig()['Fastmarkets news']\n",
    "\n",
    "title, subtitle, date, author, tags, contents = [], [], [], [], [], []\n",
    "\n",
    "for data, parse_instruction in fastmarket_scraper.items():\n",
    "    if parse_instruction['method'] == 'find_element':\n",
    "        parsed_data = driver.find_element(parse_instruction['by'], parse_instruction['query']).text \n",
    "    else:\n",
    "        parsed_data = driver.find_elements(parse_instruction['by'], parse_instruction['query'])\n",
    "        parsed_data = [parsed.text for parsed in parsed_data]\n",
    "\n",
    "    if data == 'title':\n",
    "        title.append(parsed_data)\n",
    "    elif data == 'subtitle':\n",
    "        subtitle.append(parsed_data)\n",
    "    elif data == 'date':\n",
    "        date.append(parsed_data)\n",
    "    elif data == \"author\":\n",
    "        author.append(parsed_data)\n",
    "    elif data == 'tags':\n",
    "        tags.append(parsed_data)\n",
    "    else:\n",
    "        contents.append('\\n'.join(parsed_data))\n",
    "        \n",
    "\n",
    "articles_df = pd.DataFrame({\n",
    "    'title': title,\n",
    "    'subtitle': subtitle,\n",
    "    'date': date,\n",
    "    'author': author,\n",
    "    'tags': tags,\n",
    "    'contents': contents\n",
    "}).astype({\n",
    "    'title': 'string',\n",
    "    'subtitle': 'string',\n",
    "    'date': 'string',\n",
    "    'author': 'string',\n",
    "    'tags': 'object',\n",
    "    'contents': 'string'\n",
    "})"
   ]
  }
 ],
 "metadata": {
  "kernelspec": {
   "display_name": "Python 3",
   "language": "python",
   "name": "python3"
  },
  "language_info": {
   "codemirror_mode": {
    "name": "ipython",
    "version": 3
   },
   "file_extension": ".py",
   "mimetype": "text/x-python",
   "name": "python",
   "nbconvert_exporter": "python",
   "pygments_lexer": "ipython3",
   "version": "3.13.1"
  }
 },
 "nbformat": 4,
 "nbformat_minor": 2
}
